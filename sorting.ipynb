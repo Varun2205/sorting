{
  "nbformat": 4,
  "nbformat_minor": 0,
  "metadata": {
    "colab": {
      "name": "sorting.ipynb",
      "provenance": [],
      "collapsed_sections": [],
      "toc_visible": true
    },
    "kernelspec": {
      "name": "python3",
      "display_name": "Python 3"
    },
    "language_info": {
      "name": "python"
    }
  },
  "cells": [
    {
      "cell_type": "code",
      "execution_count": 83,
      "metadata": {
        "colab": {
          "base_uri": "https://localhost:8080/"
        },
        "id": "KA-p5hFFgrxB",
        "outputId": "f84088f5-768b-4f38-f8dc-8a173b444e32"
      },
      "outputs": [
        {
          "output_type": "stream",
          "name": "stdout",
          "text": [
            "found :  f\n",
            "Lenght of list 'List' =   5\n"
          ]
        }
      ],
      "source": [
        "alphabets = [\"a\", \"b\", \"c\", \"d\", \"e\", \"f\", \"g\", \"h\", \"i\", \"j\", \"k\", \"l\", \"m\", \"n\", \"o\", \"p\", \"q\", \"r\", \"s\", \"t\", \"u\", \"v\", \"w\", \"x\", \"y\", \"z\"]\n",
        "\n",
        "lists  = [\"f\", \"h\", \"m\", \"i\", \"t\", \"o\"]\n",
        "\n",
        "# x is the particular value of a field in the list\n",
        "# it is initialized as the default value 0 which represents \"a\" in the list 'alphabets'\n",
        "x = 0\n",
        "\n",
        "# a is the particular value of a field in the list\n",
        "# it is initialized as the default value 0 which represents \"f\" in the list 'lists'\n",
        "a = 0\n",
        "\n",
        "lenght_of_lists = len(lists)\n",
        "# As lenght of list starts from 0 the variable must be 1 less\n",
        "lenght_of_lists = lenght_of_lists - 1\n",
        "\n",
        "particular_alphabet_in_list_alphabets = alphabets[x]\n",
        "\n",
        "particular_alphabet_in_list_lists = lists[a]\n",
        "\n",
        "for particular_alphabet_in_list_alphabets in particular_alphabet_in_list_lists:\n",
        "  if particular_alphabet_in_list_alphabets == particular_alphabet_in_list_lists:\n",
        "    break\n",
        "  else:\n",
        "    x = x + 1\n",
        "print(\"found : \", particular_alphabet_in_list_alphabets)\n",
        "\n",
        "print(\"Lenght of list 'List' =  \", lenght_of_lists)\n",
        "\n",
        "\n",
        "# while a == lenght_of_lists:\n",
        "#   for particular_alphabet_in_list_alphabets in particular_alphabet_in_list_lists:\n",
        "#     if particular_alphabet_in_list_alphabets == particular_alphabet_in_list_lists:\n",
        "#       print(\"Found:- \", particular_alphabet_in_list_lists)\n",
        "#       break\n",
        "#     else:\n",
        "#       x = x + 1\n",
        "#   print(\"found : \", particular_alphabet_in_list_lists)\n",
        "#   a = a + 1"
      ]
    },
    {
      "cell_type": "code",
      "source": [
        "while (a<=lenght_of_lists):\n",
        "  for particular_alphabet_in_list_lists in particular_alphabet_in_list_alphabets:\n",
        "    if particular_alphabet_in_list_lists == particular_alphabet_in_list_alphabets:\n",
        "      print(\"hello\", particular_alphabet_in_list_alphabets)\n",
        "      break\n",
        "    else:\n",
        "      print(\"found\", particular_alphabet_in_list_lists)\n",
        "      x = x + 1\n",
        "  a = a + 1\n",
        "  print(particular_alphabet_in_list_lists)"
      ],
      "metadata": {
        "id": "FrzywZu7vMPN"
      },
      "execution_count": 95,
      "outputs": []
    }
  ]
}